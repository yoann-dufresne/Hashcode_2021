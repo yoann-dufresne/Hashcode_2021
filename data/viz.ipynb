{
 "cells": [
  {
   "cell_type": "code",
   "execution_count": 40,
   "metadata": {},
   "outputs": [
    {
     "name": "stdout",
     "output_type": "stream",
     "text": [
      "a.txt\t6\tsecs\t4\tintersections\t5\tstreets\t2\tcars\t1000\tbonus\n",
      "b.txt\t5070\tsecs\t7073\tintersections\t9102\tstreets\t1000\tcars\t1000\tbonus\n",
      "c.txt\t1640\tsecs\t10000\tintersections\t35030\tstreets\t1000\tcars\t100\tbonus\n",
      "d.txt\t8071\tsecs\t8000\tintersections\t95928\tstreets\t1000\tcars\t1000\tbonus\n",
      "e.txt\t676\tsecs\t500\tintersections\t998\tstreets\t1000\tcars\t500\tbonus\n",
      "f.txt\t1992\tsecs\t1662\tintersections\t10000\tstreets\t1000\tcars\t500\tbonus\n"
     ]
    }
   ],
   "source": [
    "\n",
    "\n",
    "def parse(filename,verbose=False):\n",
    "    lines = open(filename).readlines()\n",
    "    D,I,S,V,F = map(int,lines[0].split())\n",
    "    if verbose:\n",
    "        print(filename,D,\"secs\",I,\"intersections\",S,\"streets\",V,\"cars\",F,\"bonus\",sep='\\t')\n",
    "    \n",
    "    streets = []\n",
    "    for line in lines[1:S+1]:\n",
    "        assert(len(line.split()) == 4)\n",
    "        B,E, name, L = line.split()\n",
    "        B,E,L=map(int,[B,E,L])\n",
    "        streets += [(B,E,name,L)]\n",
    "    assert(len(streets) == S)\n",
    "        \n",
    "    paths = []\n",
    "    for line in lines[S+1:]:\n",
    "        P = int(line.split()[0])\n",
    "        assert(len(line.split()) == P+1)\n",
    "        paths += [line.split()[1:]]\n",
    "    assert(len(paths) == V)\n",
    "          \n",
    "    return (D,F,streets,paths)\n",
    "        \n",
    "for dataset_name in \"abcdef\":\n",
    "    parse(dataset_name+\".txt\",verbose=True)\n",
    "\n",
    "None"
   ]
  },
  {
   "cell_type": "code",
   "execution_count": 43,
   "metadata": {},
   "outputs": [],
   "source": [
    "\n",
    "import networkx as nx\n",
    "import matplotlib.pyplot as plt\n",
    "\n",
    "def make_graph(dataset_name):\n",
    "    D,F,streets,paths = parse(dataset_name+\".txt\",verbose=False)\n",
    "    G = nx.DiGraph()\n",
    "    d_streets = dict()\n",
    "    for street in streets:\n",
    "        B,E,name,L = street\n",
    "        G.add_edge(B,E,weight=0)\n",
    "        d_streets[name] = street\n",
    "\n",
    "    for path in paths:\n",
    "        for street_name in path:\n",
    "            B,E,name,L = d_streets[street_name]\n",
    "            G[B][E]['weight'] += 1\n",
    "    return G\n",
    "    \n",
    "nx.write_gexf(G,dataset_name+ \".gexf\")\n",
    "# c:\\dropbox\\hobbies\\hashcode21\\yoann_repo\\data"
   ]
  },
  {
   "cell_type": "code",
   "execution_count": 53,
   "metadata": {},
   "outputs": [
    {
     "name": "stdout",
     "output_type": "stream",
     "text": [
      "a\t3.5\tavg path len\t1.25\tavg in degree\t1.25\tavg out degree\n",
      "b\t26.74\tavg path len\t1.29\tavg in degree\t1.29\tavg out degree\n",
      "c\t75.813\tavg path len\t3.50\tavg in degree\t3.50\tavg out degree\n",
      "d\t200.0\tavg path len\t11.99\tavg in degree\t11.99\tavg out degree\n",
      "e\t6.051\tavg path len\t2.00\tavg in degree\t2.00\tavg out degree\n",
      "f\t136.512\tavg path len\t6.02\tavg in degree\t6.02\tavg out degree\n"
     ]
    }
   ],
   "source": [
    "for dataset_name in \"abcdef\":\n",
    "    G = make_graph(dataset_name)\n",
    "    D,F,streets,paths = parse(dataset_name+\".txt\",verbose=False)\n",
    "    intersections = G.nodes()\n",
    "    \n",
    "    avg_path_len = sum([len(p) for p in paths])/len(paths)\n",
    "    avg_in_deg  = sum(d for n, d in G.in_degree()) / len(intersections)\n",
    "    avg_out_deg = sum(d for n, d in G.out_degree()) / len(intersections)\n",
    "\n",
    "    print(dataset_name,avg_path_len,\"avg path len\",\"%.02f\"%avg_in_deg,'avg in degree',\"%.02f\"%avg_out_deg,'avg out degree',sep='\\t')"
   ]
  },
  {
   "cell_type": "code",
   "execution_count": 57,
   "metadata": {},
   "outputs": [
    {
     "name": "stdout",
     "output_type": "stream",
     "text": [
      "a\t2,005\tmax theoretical score\n",
      "b\t6,043,260\tmax theoretical score\n",
      "c\t1,664,187\tmax theoretical score\n",
      "d\t8,871,000\tmax theoretical score\n",
      "e\t1,169,949\tmax theoretical score\n",
      "f\t2,355,488\tmax theoretical score\n"
     ]
    }
   ],
   "source": [
    "\n",
    "for dataset_name in \"abcdef\":\n",
    "    G = make_graph(dataset_name)\n",
    "    D,F,streets,paths = parse(dataset_name+\".txt\",verbose=False)\n",
    "    max_score = 0    \n",
    "    \n",
    "    for path in paths:\n",
    "        max_score += F + (D - len(path))\n",
    "    print(dataset_name,f'{max_score:,}',\"max theoretical score\",sep='\\t')"
   ]
  },
  {
   "cell_type": "code",
   "execution_count": null,
   "metadata": {},
   "outputs": [],
   "source": []
  }
 ],
 "metadata": {
  "kernelspec": {
   "display_name": "Python 3",
   "language": "python",
   "name": "python3"
  },
  "language_info": {
   "codemirror_mode": {
    "name": "ipython",
    "version": 3
   },
   "file_extension": ".py",
   "mimetype": "text/x-python",
   "name": "python",
   "nbconvert_exporter": "python",
   "pygments_lexer": "ipython3",
   "version": "3.7.6"
  }
 },
 "nbformat": 4,
 "nbformat_minor": 4
}
