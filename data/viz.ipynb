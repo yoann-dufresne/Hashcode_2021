{
 "cells": [
  {
   "cell_type": "code",
   "execution_count": 2,
   "metadata": {},
   "outputs": [
    {
     "name": "stdout",
     "output_type": "stream",
     "text": [
      "a.txt\t6\tsecs\t4\tintersections\t5\tstreets\t2\tcars\t1000\tbonus\n",
      "b.txt\t5070\tsecs\t7073\tintersections\t9102\tstreets\t1000\tcars\t1000\tbonus\n",
      "c.txt\t1640\tsecs\t10000\tintersections\t35030\tstreets\t1000\tcars\t100\tbonus\n",
      "d.txt\t8071\tsecs\t8000\tintersections\t95928\tstreets\t1000\tcars\t1000\tbonus\n",
      "e.txt\t676\tsecs\t500\tintersections\t998\tstreets\t1000\tcars\t500\tbonus\n"
     ]
    }
   ],
   "source": [
    "\n",
    "\n",
    "def parse(filename):\n",
    "    lines = open(filename).readlines()\n",
    "    D,I,S,V,F = map(int,lines[0].split())\n",
    "    print(filename,D,\"secs\",I,\"intersections\",S,\"streets\",V,\"cars\",F,\"bonus\",sep='\\t')\n",
    "    \n",
    "    streets = []\n",
    "    for line in lines[1:S+1]:\n",
    "        assert(len(line.split()) == 4)\n",
    "        B,E, name, L = line.split()\n",
    "        B,E,L=map(int,[B,E,L])\n",
    "        streets += [(B,E,name,L)]\n",
    "    assert(len(streets) == S)\n",
    "        \n",
    "    paths = []\n",
    "    for line in lines[S+1:]:\n",
    "        P = int(line.split()[0])\n",
    "        assert(len(line.split()) == P+1)\n",
    "        paths += [line.split()[1:]]\n",
    "    assert(len(paths) == V)\n",
    "    \n",
    "    return (D,F,streets,paths)\n",
    "        \n",
    "parse(\"a.txt\")\n",
    "parse(\"b.txt\")\n",
    "parse(\"c.txt\")\n",
    "parse(\"d.txt\")\n",
    "parse(\"e.txt\")\n",
    "None"
   ]
  },
  {
   "cell_type": "code",
   "execution_count": 8,
   "metadata": {},
   "outputs": [
    {
     "name": "stdout",
     "output_type": "stream",
     "text": [
      "f.txt\t1992\tsecs\t1662\tintersections\t10000\tstreets\t1000\tcars\t500\tbonus\n"
     ]
    }
   ],
   "source": [
    "dataset=\"f.txt\"\n",
    "dataset_name = dataset[0]\n",
    "D,F,streets,paths = parse(dataset)\n",
    "\n",
    "\n",
    "import networkx as nx\n",
    "import matplotlib.pyplot as plt\n",
    "\n",
    "G = nx.DiGraph()\n",
    "for street in streets:\n",
    "    B,E,name,L = street\n",
    "    G.add_edge(B,E)\n",
    "\n",
    "def draw_graph(G):\n",
    "    fig, ax = plt.subplots(1, 1, figsize=(8, 6));\n",
    "    nx.draw_networkx(G, ax=ax)\n",
    "#draw_graph(G)\n",
    "nx.write_gexf(G,dataset_name+ \".gexf\")\n",
    "# c:\\dropbox\\hobbies\\hashcode21\\yoann_repo\\data"
   ]
  },
  {
   "cell_type": "code",
   "execution_count": null,
   "metadata": {},
   "outputs": [],
   "source": []
  }
 ],
 "metadata": {
  "kernelspec": {
   "display_name": "Python 3",
   "language": "python",
   "name": "python3"
  },
  "language_info": {
   "codemirror_mode": {
    "name": "ipython",
    "version": 3
   },
   "file_extension": ".py",
   "mimetype": "text/x-python",
   "name": "python",
   "nbconvert_exporter": "python",
   "pygments_lexer": "ipython3",
   "version": "3.7.6"
  }
 },
 "nbformat": 4,
 "nbformat_minor": 4
}
